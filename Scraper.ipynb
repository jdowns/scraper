{
 "metadata": {
  "name": "",
  "signature": "sha256:047fd9773ad5fcf66a6a8918982b28a64fe490e9c335cfe5be5093d499c64a31"
 },
 "nbformat": 3,
 "nbformat_minor": 0,
 "worksheets": [
  {
   "cells": [
    {
     "cell_type": "code",
     "collapsed": false,
     "input": [
      "import requests\n",
      "from functools import partial\n",
      "from bs4 import BeautifulSoup\n",
      "from keys import consumer_key, code, access_token"
     ],
     "language": "python",
     "metadata": {},
     "outputs": [],
     "prompt_number": 1
    },
    {
     "cell_type": "code",
     "collapsed": false,
     "input": [
      "def get_front_page():\n",
      "    target = \"https://news.ycombinator.com\"\n",
      "    frontpage = requests.get(target)\n",
      "    news_soup = BeautifulSoup(frontpage.text)\n",
      "    return news_soup \n",
      "\n",
      "get_front_page()"
     ],
     "language": "python",
     "metadata": {},
     "outputs": [
      {
       "metadata": {},
       "output_type": "pyout",
       "prompt_number": 8,
       "text": [
        "<html><head><meta content=\"origin\" name=\"referrer\"/><link href=\"news.css?BvxFiBPHmAOSOGNWvw9j\" rel=\"stylesheet\" type=\"text/css\"/><link href=\"favicon.ico\" rel=\"shortcut icon\"/><link href=\"rss\" rel=\"alternate\" title=\"RSS\" type=\"application/rss+xml\"/><script type=\"text/javascript\">\n",
        "function byId(id) {\n",
        "  return document.getElementById(id);\n",
        "}\n",
        "\n",
        "function vote(node) {\n",
        "  var v = node.id.split(/_/);   // {'up', '123'}\n",
        "  var item = v[1];\n",
        "\n",
        "  // hide arrows\n",
        "  byId('up_'   + item).style.visibility = 'hidden';\n",
        "  byId('down_' + item).style.visibility = 'hidden';\n",
        "\n",
        "  // ping server\n",
        "  var ping = new Image();\n",
        "  ping.src = node.href;\n",
        "\n",
        "  return false; // cancel browser nav\n",
        "} </script><title>Hacker News</title></head><body><center><table bgcolor=\"#f6f6ef\" border=\"0\" cellpadding=\"0\" cellspacing=\"0\" width=\"85%\"><tr><td bgcolor=\"#ff6600\"><table border=\"0\" cellpadding=\"0\" cellspacing=\"0\" style=\"padding:2px\" width=\"100%\"><tr><td style=\"width:18px;padding-right:4px\"><a href=\"http://www.ycombinator.com\"><img height=\"18\" src=\"y18.gif\" style=\"border:1px #ffffff solid;\" width=\"18\"/></a></td><td style=\"line-height:12pt; height:10px;\"><span class=\"pagetop\"><b><a href=\"news\">Hacker News</a></b><img height=\"1\" src=\"s.gif\" width=\"10\"/><a href=\"newest\">new</a> | <a href=\"newcomments\">comments</a> | <a href=\"show\">show</a> | <a href=\"ask\">ask</a> | <a href=\"jobs\">jobs</a> | <a href=\"submit\">submit</a></span></td><td style=\"text-align:right;padding-right:4px;\"><span class=\"pagetop\"><a href=\"newslogin?whence=%6e%65%77%73\">login</a></span></td></tr></table></td></tr><tr style=\"height:10px\"></tr><tr><td><table border=\"0\" cellpadding=\"0\" cellspacing=\"0\"><tr><td align=\"right\" class=\"title\" valign=\"top\">1.</td><td><center><a href=\"vote?for=8186008&amp;dir=up&amp;whence=%6e%65%77%73\" id=\"up_8186008\"><div class=\"votearrow\" title=\"upvote\"></div></a><span id=\"down_8186008\"></span></center></td><td class=\"title\"><a href=\"http://lucumr.pocoo.org/2014/8/16/the-python-i-would-like-to-see/\">The Python I Would Like To See</a><span class=\"comhead\"> (pocoo.org) </span></td></tr><tr><td colspan=\"2\"></td><td class=\"subtext\"><span id=\"score_8186008\">163 points</span> by <a href=\"user?id=rachbelaid\">rachbelaid</a> 4 hours ago  | <a href=\"item?id=8186008\">34 comments</a></td></tr><tr style=\"height:5px\"></tr><tr><td align=\"right\" class=\"title\" valign=\"top\">2.</td><td><center><a href=\"vote?for=8186200&amp;dir=up&amp;whence=%6e%65%77%73\" id=\"up_8186200\"><div class=\"votearrow\" title=\"upvote\"></div></a><span id=\"down_8186200\"></span></center></td><td class=\"title\"><a href=\"http://www.minimallyminimal.com/blog/leica-t\">A Leica T Review</a><span class=\"comhead\"> (minimallyminimal.com) </span></td></tr><tr><td colspan=\"2\"></td><td class=\"subtext\"><span id=\"score_8186200\">36 points</span> by <a href=\"user?id=constantinum\">constantinum</a> 2 hours ago  | <a href=\"item?id=8186200\">20 comments</a></td></tr><tr style=\"height:5px\"></tr><tr><td align=\"right\" class=\"title\" valign=\"top\">3.</td><td><center><a href=\"vote?for=8185225&amp;dir=up&amp;whence=%6e%65%77%73\" id=\"up_8185225\"><div class=\"votearrow\" title=\"upvote\"></div></a><span id=\"down_8185225\"></span></center></td><td class=\"title\"><a href=\"https://www.eff.org/deeplinks/2014/08/cell-phone-guide-protesters-updated-2014-edition\">Cell Phone Guide For US Protesters, Updated 2014 Edition</a><span class=\"comhead\"> (eff.org) </span></td></tr><tr><td colspan=\"2\"></td><td class=\"subtext\"><span id=\"score_8185225\">120 points</span> by <a href=\"user?id=panarky\">panarky</a> 14 hours ago  | <a href=\"item?id=8185225\">47 comments</a></td></tr><tr style=\"height:5px\"></tr><tr><td align=\"right\" class=\"title\" valign=\"top\">4.</td><td><center><a href=\"vote?for=8186407&amp;dir=up&amp;whence=%6e%65%77%73\" id=\"up_8186407\"><div class=\"votearrow\" title=\"upvote\"></div></a><span id=\"down_8186407\"></span></center></td><td class=\"title\"><a href=\"http://vimr.org/\">VimR \u2013 Refined Vim Experience for OS X</a><span class=\"comhead\"> (vimr.org) </span></td></tr><tr><td colspan=\"2\"></td><td class=\"subtext\"><span id=\"score_8186407\">61 points</span> by <a href=\"user?id=jasonrdsouza\">jasonrdsouza</a> 1 hour ago  | <a href=\"item?id=8186407\">24 comments</a></td></tr><tr style=\"height:5px\"></tr><tr><td align=\"right\" class=\"title\" valign=\"top\">5.</td><td><center><a href=\"vote?for=8186277&amp;dir=up&amp;whence=%6e%65%77%73\" id=\"up_8186277\"><div class=\"votearrow\" title=\"upvote\"></div></a><span id=\"down_8186277\"></span></center></td><td class=\"title\"><a href=\"http://en.wikipedia.org/wiki/Indefinite_lifespan\">Indefinite lifespan</a><span class=\"comhead\"> (wikipedia.org) </span></td></tr><tr><td colspan=\"2\"></td><td class=\"subtext\"><span id=\"score_8186277\">18 points</span> by <a href=\"user?id=montefeltro\">montefeltro</a> 2 hours ago  | <a href=\"item?id=8186277\">6 comments</a></td></tr><tr style=\"height:5px\"></tr><tr><td align=\"right\" class=\"title\" valign=\"top\">6.</td><td><center><a href=\"vote?for=8185046&amp;dir=up&amp;whence=%6e%65%77%73\" id=\"up_8185046\"><div class=\"votearrow\" title=\"upvote\"></div></a><span id=\"down_8185046\"></span></center></td><td class=\"title\"><a href=\"http://www.forharriet.com/2014/08/georgia-teens-develop-app-to-document.html\">Georgia Teens Develop App to Document Police Abuse</a><span class=\"comhead\"> (forharriet.com) </span></td></tr><tr><td colspan=\"2\"></td><td class=\"subtext\"><span id=\"score_8185046\">191 points</span> by <a href=\"user?id=logn\">logn</a> 15 hours ago  | <a href=\"item?id=8185046\">45 comments</a></td></tr><tr style=\"height:5px\"></tr><tr><td align=\"right\" class=\"title\" valign=\"top\">7.</td><td><center><a href=\"vote?for=8186422&amp;dir=up&amp;whence=%6e%65%77%73\" id=\"up_8186422\"><div class=\"votearrow\" title=\"upvote\"></div></a><span id=\"down_8186422\"></span></center></td><td class=\"title\"><a href=\"http://classy.as/\" rel=\"nofollow\">Classy: Expressive, flexible, and powerful stylesheets for native iOS apps</a><span class=\"comhead\"> (classy.as) </span></td></tr><tr><td colspan=\"2\"></td><td class=\"subtext\"><span id=\"score_8186422\">6 points</span> by <a href=\"user?id=shinvee\">shinvee</a> 1 hour ago  | <a href=\"item?id=8186422\">discuss</a></td></tr><tr style=\"height:5px\"></tr><tr><td align=\"right\" class=\"title\" valign=\"top\">8.</td><td><center><a href=\"vote?for=8186579&amp;dir=up&amp;whence=%6e%65%77%73\" id=\"up_8186579\"><div class=\"votearrow\" title=\"upvote\"></div></a><span id=\"down_8186579\"></span></center></td><td class=\"title\"><a href=\"http://blog.behnel.de/posts/faster-python-calls-in-cython-021.html\" rel=\"nofollow\">Faster Python calls in Cython 0.21</a><span class=\"comhead\"> (behnel.de) </span></td></tr><tr><td colspan=\"2\"></td><td class=\"subtext\"><span id=\"score_8186579\">3 points</span> by <a href=\"user?id=andreif\">andreif</a> 51 minutes ago  | <a href=\"item?id=8186579\">discuss</a></td></tr><tr style=\"height:5px\"></tr><tr><td align=\"right\" class=\"title\" valign=\"top\">9.</td><td><center><a href=\"vote?for=8186290&amp;dir=up&amp;whence=%6e%65%77%73\" id=\"up_8186290\"><div class=\"votearrow\" title=\"upvote\"></div></a><span id=\"down_8186290\"></span></center></td><td class=\"title\"><a href=\"https://levels.io/product-hunt-hacker-news-number-one/\">How my startup got to #1 on both Product Hunt and Hacker News</a><span class=\"comhead\"> (levels.io) </span></td></tr><tr><td colspan=\"2\"></td><td class=\"subtext\"><span id=\"score_8186290\">43 points</span> by <a href=\"user?id=pieterhg\">pieterhg</a> 2 hours ago  | <a href=\"item?id=8186290\">16 comments</a></td></tr><tr style=\"height:5px\"></tr><tr><td align=\"right\" class=\"title\" valign=\"top\">10.</td><td><center><a href=\"vote?for=8181773&amp;dir=up&amp;whence=%6e%65%77%73\" id=\"up_8181773\"><div class=\"votearrow\" title=\"upvote\"></div></a><span id=\"down_8181773\"></span></center></td><td class=\"title\"><a href=\"http://projecteuler.net/news\">Project Euler Returns</a><span class=\"comhead\"> (projecteuler.net) </span></td></tr><tr><td colspan=\"2\"></td><td class=\"subtext\"><span id=\"score_8181773\">435 points</span> by <a href=\"user?id=garycomtois\">garycomtois</a> 1 day ago  | <a href=\"item?id=8181773\">93 comments</a></td></tr><tr style=\"height:5px\"></tr><tr><td align=\"right\" class=\"title\" valign=\"top\">11.</td><td><center><a href=\"vote?for=8186041&amp;dir=up&amp;whence=%6e%65%77%73\" id=\"up_8186041\"><div class=\"votearrow\" title=\"upvote\"></div></a><span id=\"down_8186041\"></span></center></td><td class=\"title\"><a href=\"http://www.washingtonpost.com/blogs/the-switch/wp/2014/08/15/sen-wyden-your-datas-yours-no-matter-on-whose-server-it-lives/\">Senator Wyden: Your data\u2019s yours no matter on whose server it lives</a><span class=\"comhead\"> (washingtonpost.com) </span></td></tr><tr><td colspan=\"2\"></td><td class=\"subtext\"><span id=\"score_8186041\">65 points</span> by <a href=\"user?id=Libertatea\">Libertatea</a> 4 hours ago  | <a href=\"item?id=8186041\">11 comments</a></td></tr><tr style=\"height:5px\"></tr><tr><td align=\"right\" class=\"title\" valign=\"top\">12.</td><td><center><a href=\"vote?for=8185508&amp;dir=up&amp;whence=%6e%65%77%73\" id=\"up_8185508\"><div class=\"votearrow\" title=\"upvote\"></div></a><span id=\"down_8185508\"></span></center></td><td class=\"title\"><a href=\"http://blogs.wsj.com/venturecapital/2014/08/15/datarobot-run-by-worlds-top-data-scientists-raises-21m-series-a/\">DataRobot raises $21m Series A</a><span class=\"comhead\"> (wsj.com) </span></td></tr><tr><td colspan=\"2\"></td><td class=\"subtext\"><span id=\"score_8185508\">58 points</span> by <a href=\"user?id=benhamner\">benhamner</a> 10 hours ago  | <a href=\"item?id=8185508\">6 comments</a></td></tr><tr style=\"height:5px\"></tr><tr><td align=\"right\" class=\"title\" valign=\"top\">13.</td><td><center><a href=\"vote?for=8184782&amp;dir=up&amp;whence=%6e%65%77%73\" id=\"up_8184782\"><div class=\"votearrow\" title=\"upvote\"></div></a><span id=\"down_8184782\"></span></center></td><td class=\"title\"><a href=\"http://munsonscity.wordpress.com/2014/08/14/where-i-should-live-according-to-math/\">Where I Should Live, According to Math</a><span class=\"comhead\"> (munsonscity.wordpress.com) </span></td></tr><tr><td colspan=\"2\"></td><td class=\"subtext\"><span id=\"score_8184782\">101 points</span> by <a href=\"user?id=aaronbrethorst\">aaronbrethorst</a> 17 hours ago  | <a href=\"item?id=8184782\">55 comments</a></td></tr><tr style=\"height:5px\"></tr><tr><td align=\"right\" class=\"title\" valign=\"top\">14.</td><td><center><a href=\"vote?for=8184909&amp;dir=up&amp;whence=%6e%65%77%73\" id=\"up_8184909\"><div class=\"votearrow\" title=\"upvote\"></div></a><span id=\"down_8184909\"></span></center></td><td class=\"title\"><a href=\"https://github.com/cdosborn/lit\">Show HN: Lit \u2013 a modern literate programming tool</a><span class=\"comhead\"> (github.com) </span></td></tr><tr><td colspan=\"2\"></td><td class=\"subtext\"><span id=\"score_8184909\">80 points</span> by <a href=\"user?id=cdosborn\">cdosborn</a> 17 hours ago  | <a href=\"item?id=8184909\">48 comments</a></td></tr><tr style=\"height:5px\"></tr><tr><td align=\"right\" class=\"title\" valign=\"top\">15.</td><td><center><a href=\"vote?for=8183392&amp;dir=up&amp;whence=%6e%65%77%73\" id=\"up_8183392\"><div class=\"votearrow\" title=\"upvote\"></div></a><span id=\"down_8183392\"></span></center></td><td class=\"title\"><a href=\"http://vindinium.org/\">Vindinium: An artificial intelligence programming challenge</a><span class=\"comhead\"> (vindinium.org) </span></td></tr><tr><td colspan=\"2\"></td><td class=\"subtext\"><span id=\"score_8183392\">137 points</span> by <a href=\"user?id=gren\">gren</a> 22 hours ago  | <a href=\"item?id=8183392\">32 comments</a></td></tr><tr style=\"height:5px\"></tr><tr><td align=\"right\" class=\"title\" valign=\"top\">16.</td><td><center><a href=\"vote?for=8183220&amp;dir=up&amp;whence=%6e%65%77%73\" id=\"up_8183220\"><div class=\"votearrow\" title=\"upvote\"></div></a><span id=\"down_8183220\"></span></center></td><td class=\"title\"><a href=\"http://archive.wired.com/geekdad/2012/01/everything-about-learning/\">Packing things in your brain in a way that keeps them from leaking out</a><span class=\"comhead\"> (wired.com) </span></td></tr><tr><td colspan=\"2\"></td><td class=\"subtext\"><span id=\"score_8183220\">118 points</span> by <a href=\"user?id=Tomte\">Tomte</a> 23 hours ago  | <a href=\"item?id=8183220\">34 comments</a></td></tr><tr style=\"height:5px\"></tr><tr><td align=\"right\" class=\"title\" valign=\"top\">17.</td><td><center><a href=\"vote?for=8182953&amp;dir=up&amp;whence=%6e%65%77%73\" id=\"up_8182953\"><div class=\"votearrow\" title=\"upvote\"></div></a><span id=\"down_8182953\"></span></center></td><td class=\"title\"><a href=\"http://www.nytimes.com/interactive/2014/08/15/magazine/bad-paper-debt-collector.html\">Inside the Dark, Lucrative World of Consumer Debt Collection</a><span class=\"comhead\"> (nytimes.com) </span></td></tr><tr><td colspan=\"2\"></td><td class=\"subtext\"><span id=\"score_8182953\">276 points</span> by <a href=\"user?id=aet\">aet</a> 1 day ago  | <a href=\"item?id=8182953\">235 comments</a></td></tr><tr style=\"height:5px\"></tr><tr><td align=\"right\" class=\"title\" valign=\"top\">18.</td><td><center><a href=\"vote?for=8182106&amp;dir=up&amp;whence=%6e%65%77%73\" id=\"up_8182106\"><div class=\"votearrow\" title=\"upvote\"></div></a><span id=\"down_8182106\"></span></center></td><td class=\"title\"><a href=\"http://www.technologyreview.com/news/527051/the-man-who-really-built-bitcoin/\">Gavin Andresen, the Most Powerful Person in the World of Bitcoin</a><span class=\"comhead\"> (technologyreview.com) </span></td></tr><tr><td colspan=\"2\"></td><td class=\"subtext\"><span id=\"score_8182106\">192 points</span> by <a href=\"user?id=prostoalex\">prostoalex</a> 1 day ago  | <a href=\"item?id=8182106\">28 comments</a></td></tr><tr style=\"height:5px\"></tr><tr><td align=\"right\" class=\"title\" valign=\"top\">19.</td><td><center><a href=\"vote?for=8185860&amp;dir=up&amp;whence=%6e%65%77%73\" id=\"up_8185860\"><div class=\"votearrow\" title=\"upvote\"></div></a><span id=\"down_8185860\"></span></center></td><td class=\"title\"><a href=\"http://rpgmaker.net/events/rpgology/\">Fundamental RPGology</a><span class=\"comhead\"> (rpgmaker.net) </span></td></tr><tr><td colspan=\"2\"></td><td class=\"subtext\"><span id=\"score_8185860\">33 points</span> by <a href=\"user?id=networked\">networked</a> 6 hours ago  | <a href=\"item?id=8185860\">5 comments</a></td></tr><tr style=\"height:5px\"></tr><tr><td align=\"right\" class=\"title\" valign=\"top\">20.</td><td><center><a href=\"vote?for=8183169&amp;dir=up&amp;whence=%6e%65%77%73\" id=\"up_8183169\"><div class=\"votearrow\" title=\"upvote\"></div></a><span id=\"down_8183169\"></span></center></td><td class=\"title\"><a href=\"http://www.idlewords.com/2014/08/green_arabia.htm\">Green Arabia</a><span class=\"comhead\"> (idlewords.com) </span></td></tr><tr><td colspan=\"2\"></td><td class=\"subtext\"><span id=\"score_8183169\">133 points</span> by <a href=\"user?id=ingve\">ingve</a> 23 hours ago  | <a href=\"item?id=8183169\">64 comments</a></td></tr><tr style=\"height:5px\"></tr><tr><td align=\"right\" class=\"title\" valign=\"top\">21.</td><td><center><a href=\"vote?for=8186147&amp;dir=up&amp;whence=%6e%65%77%73\" id=\"up_8186147\"><div class=\"votearrow\" title=\"upvote\"></div></a><span id=\"down_8186147\"></span></center></td><td class=\"title\"><a href=\"http://techcrunch.com/2014/08/16/do-software-engineers-get-enough-respect/\">Do Software Engineers Get Enough Respect?</a><span class=\"comhead\"> (techcrunch.com) </span></td></tr><tr><td colspan=\"2\"></td><td class=\"subtext\"><span id=\"score_8186147\">17 points</span> by <a href=\"user?id=keda\">keda</a> 3 hours ago  | <a href=\"item?id=8186147\">14 comments</a></td></tr><tr style=\"height:5px\"></tr><tr><td align=\"right\" class=\"title\" valign=\"top\">22.</td><td><center><a href=\"vote?for=8183172&amp;dir=up&amp;whence=%6e%65%77%73\" id=\"up_8183172\"><div class=\"votearrow\" title=\"upvote\"></div></a><span id=\"down_8183172\"></span></center></td><td class=\"title\"><a href=\"http://www.pewinternet.org/files/2014/08/Future-of-AI-Robotics-and-Jobs.pdf\">AI, Robotics, and the Future of Jobs [pdf]</a><span class=\"comhead\"> (pewinternet.org) </span></td></tr><tr><td colspan=\"2\"></td><td class=\"subtext\"><span id=\"score_8183172\">131 points</span> by <a href=\"user?id=eplanit\">eplanit</a> 23 hours ago  | <a href=\"item?id=8183172\">128 comments</a></td></tr><tr style=\"height:5px\"></tr><tr><td align=\"right\" class=\"title\" valign=\"top\">23.</td><td><center><a href=\"vote?for=8181308&amp;dir=up&amp;whence=%6e%65%77%73\" id=\"up_8181308\"><div class=\"votearrow\" title=\"upvote\"></div></a><span id=\"down_8181308\"></span></center></td><td class=\"title\"><a href=\"http://www.newstatesman.com/economy/2011/02/london-corporation-city\">Tax haven in the heart of Britain (2011)</a><span class=\"comhead\"> (newstatesman.com) </span></td></tr><tr><td colspan=\"2\"></td><td class=\"subtext\"><span id=\"score_8181308\">104 points</span> by <a href=\"user?id=ljf\">ljf</a> 1 day ago  | <a href=\"item?id=8181308\">57 comments</a></td></tr><tr style=\"height:5px\"></tr><tr><td align=\"right\" class=\"title\" valign=\"top\">24.</td><td><center><a href=\"vote?for=8182991&amp;dir=up&amp;whence=%6e%65%77%73\" id=\"up_8182991\"><div class=\"votearrow\" title=\"upvote\"></div></a><span id=\"down_8182991\"></span></center></td><td class=\"title\"><a href=\"http://mrtz.org/blog/the-zen-of-gradient-descent/\">The Zen of Gradient Descent</a><span class=\"comhead\"> (mrtz.org) </span></td></tr><tr><td colspan=\"2\"></td><td class=\"subtext\"><span id=\"score_8182991\">91 points</span> by <a href=\"user?id=ot\">ot</a> 1 day ago  | <a href=\"item?id=8182991\">8 comments</a></td></tr><tr style=\"height:5px\"></tr><tr><td align=\"right\" class=\"title\" valign=\"top\">25.</td><td><center><a href=\"vote?for=8183014&amp;dir=up&amp;whence=%6e%65%77%73\" id=\"up_8183014\"><div class=\"votearrow\" title=\"upvote\"></div></a><span id=\"down_8183014\"></span></center></td><td class=\"title\"><a href=\"http://www.practicalguidetomobileapps.com/\">Show HN: Practical Guide to Mobile Apps Using Phonegap and Famo.us</a><span class=\"comhead\"> (practicalguidetomobileapps.com) </span></td></tr><tr><td colspan=\"2\"></td><td class=\"subtext\"><span id=\"score_8183014\">122 points</span> by <a href=\"user?id=nicholasreed\">nicholasreed</a> 1 day ago  | <a href=\"item?id=8183014\">67 comments</a></td></tr><tr style=\"height:5px\"></tr><tr><td align=\"right\" class=\"title\" valign=\"top\">26.</td><td><center><a href=\"vote?for=8182397&amp;dir=up&amp;whence=%6e%65%77%73\" id=\"up_8182397\"><div class=\"votearrow\" title=\"upvote\"></div></a><span id=\"down_8182397\"></span></center></td><td class=\"title\"><a href=\"https://github.com/okTurtles/dnschain\">A Blockchain-based DNS and HTTP server</a><span class=\"comhead\"> (github.com) </span></td></tr><tr><td colspan=\"2\"></td><td class=\"subtext\"><span id=\"score_8182397\">97 points</span> by <a href=\"user?id=timtadh\">timtadh</a> 1 day ago  | <a href=\"item?id=8182397\">22 comments</a></td></tr><tr style=\"height:5px\"></tr><tr><td align=\"right\" class=\"title\" valign=\"top\">27.</td><td></td><td class=\"title\"><a href=\"https://www.guesty.com/jobs\" rel=\"nofollow\">Guesty (YC W14) is looking for its first UI/UX designer</a><span class=\"comhead\"> (guesty.com) </span></td></tr><tr><td colspan=\"2\"></td><td class=\"subtext\">2 hours ago</td></tr><tr style=\"height:5px\"></tr><tr><td align=\"right\" class=\"title\" valign=\"top\">28.</td><td><center><a href=\"vote?for=8184336&amp;dir=up&amp;whence=%6e%65%77%73\" id=\"up_8184336\"><div class=\"votearrow\" title=\"upvote\"></div></a><span id=\"down_8184336\"></span></center></td><td class=\"title\"><a href=\"http://www.omniref.com/blog/blog/2014/08/15/browser-plugins-for-chrome-and-firefox/\">Better Browsing for Ruby Developers</a><span class=\"comhead\"> (omniref.com) </span></td></tr><tr><td colspan=\"2\"></td><td class=\"subtext\"><span id=\"score_8184336\">66 points</span> by <a href=\"user?id=timr\">timr</a> 19 hours ago  | <a href=\"item?id=8184336\">26 comments</a></td></tr><tr style=\"height:5px\"></tr><tr><td align=\"right\" class=\"title\" valign=\"top\">29.</td><td><center><a href=\"vote?for=8182713&amp;dir=up&amp;whence=%6e%65%77%73\" id=\"up_8182713\"><div class=\"votearrow\" title=\"upvote\"></div></a><span id=\"down_8182713\"></span></center></td><td class=\"title\"><a href=\"http://queue.acm.org/detail.cfm?id=2636165\">Quality Software Costs Money \u2013 Heartbleed Was Free</a><span class=\"comhead\"> (acm.org) </span></td></tr><tr><td colspan=\"2\"></td><td class=\"subtext\"><span id=\"score_8182713\">89 points</span> by <a href=\"user?id=dblohm7\">dblohm7</a> 1 day ago  | <a href=\"item?id=8182713\">54 comments</a></td></tr><tr style=\"height:5px\"></tr><tr><td align=\"right\" class=\"title\" valign=\"top\">30.</td><td><center><a href=\"vote?for=8183448&amp;dir=up&amp;whence=%6e%65%77%73\" id=\"up_8183448\"><div class=\"votearrow\" title=\"upvote\"></div></a><span id=\"down_8183448\"></span></center></td><td class=\"title\"><a href=\"https://uwaterloo.ca/stories/waterloo-astrophysicists-propose-new-twist-big-bang?utm_source=social_organic&amp;utm_medium=Facebook&amp;utm_campaign=sciam_infographic\">Astrophysicists propose new twist on Big Bang</a><span class=\"comhead\"> (uwaterloo.ca) </span></td></tr><tr><td colspan=\"2\"></td><td class=\"subtext\"><span id=\"score_8183448\">78 points</span> by <a href=\"user?id=blazar\">blazar</a> 22 hours ago  | <a href=\"item?id=8183448\">44 comments</a></td></tr><tr style=\"height:5px\"></tr><tr style=\"height:10px\"></tr><tr><td colspan=\"2\"></td><td class=\"title\"><a href=\"news?p=2\" rel=\"nofollow\">More</a></td></tr></table></td></tr><tr><td><img height=\"10\" src=\"s.gif\" width=\"0\"/><table cellpadding=\"1\" cellspacing=\"0\" width=\"100%\"><tr><td bgcolor=\"#ff6600\"></td></tr></table><br/>\n",
        "<center><span class=\"yclinks\"><a href=\"newsguidelines.html\">Guidelines</a> | <a href=\"newsfaq.html\">FAQ</a> | <a href=\"lists\">Lists</a> | <a href=\"bookmarklet.html\">Bookmarklet</a> | <a href=\"dmca.html\">DMCA</a> | <a href=\"newsnews.html\">News News</a> | <a href=\"https://github.com/HackerNews/HN/issues\">Bugs and Feature Requests</a> | <a href=\"http://www.ycombinator.com/\">Y Combinator</a> | <a href=\"http://www.ycombinator.com/apply/\">Apply</a> | <a href=\"http://www.ycombinator.com/resources/\">Library</a> | <a href=\"http://www.ycombinator.com/contact/\">Contact</a></span><br/><br/>\n",
        "<form action=\"//hn.algolia.com/\" method=\"get\">Search: <input name=\"q\" size=\"17\" type=\"text\" value=\"\"/></form><br/>\n",
        "</center></td></tr></table></center></body></html>"
       ]
      }
     ],
     "prompt_number": 8
    },
    {
     "cell_type": "code",
     "collapsed": false,
     "input": [
      "def find_interesting_links(soup):\n",
      "    items = soup.findAll('td', {'align': 'right', 'class': 'title'}) \n",
      "    links = []\n",
      "    for i in items:\n",
      "        try:\n",
      "            siblings = list(i.next_siblings)\n",
      "            post_id  = siblings[0].find('a').attrs['id'][3:]\n",
      "            link     = siblings[1].find('a').attrs['href']\n",
      "            title    = siblings[1].text\n",
      "            score    = int(soup.find('span', {'id': 'score_' + post_id}).text.split()[0])\n",
      "            comments = int(soup.find('a', {'href': 'item?id=' + post_id}).text.split()[0])\n",
      "        except Exception as e:\n",
      "            continue\n",
      "        if 'python' in title.lower() or (score > 50 and comments > 10):\n",
      "            links.append({'link': link, 'title': title, 'score': score, 'comments': comments})\n",
      "    return links\n",
      "\n",
      "front_page = get_front_page()\n",
      "find_interesting_links(front_page)"
     ],
     "language": "python",
     "metadata": {},
     "outputs": [
      {
       "metadata": {},
       "output_type": "pyout",
       "prompt_number": 9,
       "text": [
        "[{'score': 163,\n",
        "  'comments': 34,\n",
        "  'link': 'http://lucumr.pocoo.org/2014/8/16/the-python-i-would-like-to-see/',\n",
        "  'title': 'The Python I Would Like To See (pocoo.org) '},\n",
        " {'score': 120,\n",
        "  'comments': 47,\n",
        "  'link': 'https://www.eff.org/deeplinks/2014/08/cell-phone-guide-protesters-updated-2014-edition',\n",
        "  'title': 'Cell Phone Guide For US Protesters, Updated 2014 Edition (eff.org) '},\n",
        " {'score': 61,\n",
        "  'comments': 24,\n",
        "  'link': 'http://vimr.org/',\n",
        "  'title': 'VimR \u2013 Refined Vim Experience for OS X (vimr.org) '},\n",
        " {'score': 191,\n",
        "  'comments': 45,\n",
        "  'link': 'http://www.forharriet.com/2014/08/georgia-teens-develop-app-to-document.html',\n",
        "  'title': 'Georgia Teens Develop App to Document Police Abuse (forharriet.com) '},\n",
        " {'score': 435,\n",
        "  'comments': 93,\n",
        "  'link': 'http://projecteuler.net/news',\n",
        "  'title': 'Project Euler Returns (projecteuler.net) '},\n",
        " {'score': 65,\n",
        "  'comments': 11,\n",
        "  'link': 'http://www.washingtonpost.com/blogs/the-switch/wp/2014/08/15/sen-wyden-your-datas-yours-no-matter-on-whose-server-it-lives/',\n",
        "  'title': 'Senator Wyden: Your data\u2019s yours no matter on whose server it lives (washingtonpost.com) '},\n",
        " {'score': 101,\n",
        "  'comments': 55,\n",
        "  'link': 'http://munsonscity.wordpress.com/2014/08/14/where-i-should-live-according-to-math/',\n",
        "  'title': 'Where I Should Live, According to Math (munsonscity.wordpress.com) '},\n",
        " {'score': 80,\n",
        "  'comments': 48,\n",
        "  'link': 'https://github.com/cdosborn/lit',\n",
        "  'title': 'Show HN: Lit \u2013 a modern literate programming tool (github.com) '},\n",
        " {'score': 137,\n",
        "  'comments': 32,\n",
        "  'link': 'http://vindinium.org/',\n",
        "  'title': 'Vindinium: An artificial intelligence programming challenge (vindinium.org) '},\n",
        " {'score': 118,\n",
        "  'comments': 34,\n",
        "  'link': 'http://archive.wired.com/geekdad/2012/01/everything-about-learning/',\n",
        "  'title': 'Packing things in your brain in a way that keeps them from leaking out (wired.com) '},\n",
        " {'score': 276,\n",
        "  'comments': 235,\n",
        "  'link': 'http://www.nytimes.com/interactive/2014/08/15/magazine/bad-paper-debt-collector.html',\n",
        "  'title': 'Inside the Dark, Lucrative World of Consumer Debt Collection (nytimes.com) '},\n",
        " {'score': 192,\n",
        "  'comments': 28,\n",
        "  'link': 'http://www.technologyreview.com/news/527051/the-man-who-really-built-bitcoin/',\n",
        "  'title': 'Gavin Andresen, the Most Powerful Person in the World of Bitcoin (technologyreview.com) '},\n",
        " {'score': 133,\n",
        "  'comments': 64,\n",
        "  'link': 'http://www.idlewords.com/2014/08/green_arabia.htm',\n",
        "  'title': 'Green Arabia (idlewords.com) '},\n",
        " {'score': 131,\n",
        "  'comments': 128,\n",
        "  'link': 'http://www.pewinternet.org/files/2014/08/Future-of-AI-Robotics-and-Jobs.pdf',\n",
        "  'title': 'AI, Robotics, and the Future of Jobs [pdf] (pewinternet.org) '},\n",
        " {'score': 104,\n",
        "  'comments': 57,\n",
        "  'link': 'http://www.newstatesman.com/economy/2011/02/london-corporation-city',\n",
        "  'title': 'Tax haven in the heart of Britain (2011) (newstatesman.com) '},\n",
        " {'score': 122,\n",
        "  'comments': 67,\n",
        "  'link': 'http://www.practicalguidetomobileapps.com/',\n",
        "  'title': 'Show HN: Practical Guide to Mobile Apps Using Phonegap and Famo.us (practicalguidetomobileapps.com) '},\n",
        " {'score': 97,\n",
        "  'comments': 22,\n",
        "  'link': 'https://github.com/okTurtles/dnschain',\n",
        "  'title': 'A Blockchain-based DNS and HTTP server (github.com) '},\n",
        " {'score': 66,\n",
        "  'comments': 26,\n",
        "  'link': 'http://www.omniref.com/blog/blog/2014/08/15/browser-plugins-for-chrome-and-firefox/',\n",
        "  'title': 'Better Browsing for Ruby Developers (omniref.com) '},\n",
        " {'score': 89,\n",
        "  'comments': 54,\n",
        "  'link': 'http://queue.acm.org/detail.cfm?id=2636165',\n",
        "  'title': 'Quality Software Costs Money \u2013 Heartbleed Was Free (acm.org) '},\n",
        " {'score': 78,\n",
        "  'comments': 44,\n",
        "  'link': 'https://uwaterloo.ca/stories/waterloo-astrophysicists-propose-new-twist-big-bang?utm_source=social_organic&utm_medium=Facebook&utm_campaign=sciam_infographic',\n",
        "  'title': 'Astrophysicists propose new twist on Big Bang (uwaterloo.ca) '}]"
       ]
      }
     ],
     "prompt_number": 9
    },
    {
     "cell_type": "code",
     "collapsed": false,
     "input": [
      "def add_to_pocket(consumer_key, access_token, url):\n",
      "    target = 'https://getpocket.com/v3/add'\n",
      "    request_params = {\n",
      "        'url': url, \n",
      "        'consumer_key': consumer_key,           \n",
      "        'access_token': access_token}\n",
      "    result = requests.post(target,          \n",
      "                           data=request_params)\n",
      "    return result.text"
     ],
     "language": "python",
     "metadata": {},
     "outputs": [],
     "prompt_number": 6
    },
    {
     "cell_type": "code",
     "collapsed": false,
     "input": [
      "soup = get_front_page()\n",
      "pocket = partial(add_to_pocket, consumer_key, access_token)\n",
      "results = find_interesting_links(soup)\n",
      "\n",
      "for r in results:\n",
      "    print(pocket(r['link']))"
     ],
     "language": "python",
     "metadata": {},
     "outputs": [
      {
       "output_type": "stream",
       "stream": "stdout",
       "text": [
        "[{'score': 158, 'comments': 33, 'link': 'http://lucumr.pocoo.org/2014/8/16/the-python-i-would-like-to-see/', 'title': 'The Python I Would Like To See (pocoo.org) '}, {'score': 65, 'comments': 11, 'link': 'http://www.washingtonpost.com/blogs/the-switch/wp/2014/08/15/sen-wyden-your-datas-yours-no-matter-on-whose-server-it-lives/', 'title': 'Sen. Wyden: Your data\u2019s yours no matter on whose server it lives (washingtonpost.com) '}, {'score': 120, 'comments': 47, 'link': 'https://www.eff.org/deeplinks/2014/08/cell-phone-guide-protesters-updated-2014-edition', 'title': 'Cell Phone Guide For US Protesters, Updated 2014 Edition (eff.org) '}, {'score': 52, 'comments': 23, 'link': 'http://vimr.org/', 'title': 'VimR \u2013 Refined Vim Experience for OS X (vimr.org) '}, {'score': 189, 'comments': 45, 'link': 'http://www.forharriet.com/2014/08/georgia-teens-develop-app-to-document.html', 'title': 'Georgia Teens Develop App to Document Police Abuse (forharriet.com) '}, {'score': 435, 'comments': 93, 'link': 'http://projecteuler.net/news', 'title': 'Project Euler Returns (projecteuler.net) '}, {'score': 100, 'comments': 55, 'link': 'http://munsonscity.wordpress.com/2014/08/14/where-i-should-live-according-to-math/', 'title': 'Where I Should Live, According to Math (munsonscity.wordpress.com) '}, {'score': 79, 'comments': 48, 'link': 'https://github.com/cdosborn/lit', 'title': 'Show HN: Lit \u2013 a modern literate programming tool (github.com) '}, {'score': 137, 'comments': 32, 'link': 'http://vindinium.org/', 'title': 'Vindinium: An artificial intelligence programming challenge (vindinium.org) '}, {'score': 117, 'comments': 34, 'link': 'http://archive.wired.com/geekdad/2012/01/everything-about-learning/', 'title': 'Packing things in your brain in a way that keeps them from leaking out (wired.com) '}, {'score': 275, 'comments': 233, 'link': 'http://www.nytimes.com/interactive/2014/08/15/magazine/bad-paper-debt-collector.html', 'title': 'Inside the Dark, Lucrative World of Consumer Debt Collection (nytimes.com) '}, {'score': 192, 'comments': 28, 'link': 'http://www.technologyreview.com/news/527051/the-man-who-really-built-bitcoin/', 'title': 'Gavin Andresen, the Most Powerful Person in the World of Bitcoin (technologyreview.com) '}, {'score': 132, 'comments': 64, 'link': 'http://www.idlewords.com/2014/08/green_arabia.htm', 'title': 'Green Arabia (idlewords.com) '}, {'score': 130, 'comments': 128, 'link': 'http://www.pewinternet.org/files/2014/08/Future-of-AI-Robotics-and-Jobs.pdf', 'title': 'AI, Robotics, and the Future of Jobs [pdf] (pewinternet.org) '}, {'score': 104, 'comments': 57, 'link': 'http://www.newstatesman.com/economy/2011/02/london-corporation-city', 'title': 'Tax haven in the heart of Britain (2011) (newstatesman.com) '}, {'score': 121, 'comments': 65, 'link': 'http://www.practicalguidetomobileapps.com/', 'title': 'Show HN: Practical Guide to Mobile Apps Using Phonegap and Famo.us (practicalguidetomobileapps.com) '}, {'score': 97, 'comments': 22, 'link': 'https://github.com/okTurtles/dnschain', 'title': 'A Blockchain-based DNS and HTTP server (github.com) '}, {'score': 66, 'comments': 26, 'link': 'http://www.omniref.com/blog/blog/2014/08/15/browser-plugins-for-chrome-and-firefox/', 'title': 'Better Browsing for Ruby Developers (omniref.com) '}, {'score': 89, 'comments': 53, 'link': 'http://queue.acm.org/detail.cfm?id=2636165', 'title': 'Quality Software Costs Money \u2013 Heartbleed Was Free (acm.org) '}, {'score': 78, 'comments': 44, 'link': 'https://uwaterloo.ca/stories/waterloo-astrophysicists-propose-new-twist-big-bang?utm_source=social_organic&utm_medium=Facebook&utm_campaign=sciam_infographic', 'title': 'Astrophysicists propose new twist on Big Bang (uwaterloo.ca) '}]\n",
        "{\"item\":{\"item_id\":\"691463436\",\"normal_url\":\"http:\\/\\/lucumr.pocoo.org\\/2014\\/8\\/16\\/the-python-i-would-like-to-see\",\"resolved_id\":\"691463436\",\"extended_item_id\":\"691463436\",\"resolved_url\":\"http:\\/\\/lucumr.pocoo.org\\/2014\\/8\\/16\\/the-python-i-would-like-to-see\\/\",\"domain_id\":\"166121\",\"origin_domain_id\":\"2252583\",\"response_code\":\"200\",\"mime_type\":\"\",\"content_length\":\"31096\",\"encoding\":\"utf-8\",\"date_resolved\":\"2014-08-16 11:04:26\",\"date_published\":\"2014-08-16 00:00:00\",\"title\":\"The Python I Would Like To See\",\"excerpt\":\"I added this particular paragraph after I wrote the initial version of this article because I think it has been largely missed that Python as a language and CPython as the interpreter are not nearly as separate as developers might believe.\",\"word_count\":\"2735\",\"innerdomain_redirect\":\"1\",\"login_required\":\"0\",\"has_image\":\"0\",\"has_video\":\"0\",\"is_index\":\"0\",\"is_article\":\"1\",\"used_fallback\":\"0\",\"lang\":\"en\",\"authors\":[],\"images\":[],\"videos\":[],\"resolved_normal_url\":\"http:\\/\\/lucumr.pocoo.org\\/2014\\/8\\/16\\/the-python-i-would-like-to-see\",\"given_url\":\"http:\\/\\/lucumr.pocoo.org\\/2014\\/8\\/16\\/the-python-i-would-like-to-see\\/\"},\"status\":1}"
       ]
      },
      {
       "output_type": "stream",
       "stream": "stdout",
       "text": [
        "\n",
        "{\"item\":{\"item_id\":\"691452280\",\"normal_url\":\"http:\\/\\/washingtonpost.com\\/blogs\\/the-switch\\/wp\\/2014\\/08\\/15\\/sen-wyden-your-datas-yours-no-matter-on-whose-server-it-lives\",\"resolved_id\":\"691452280\",\"extended_item_id\":\"691452280\",\"resolved_url\":\"http:\\/\\/www.washingtonpost.com\\/blogs\\/the-switch\\/wp\\/2014\\/08\\/15\\/sen-wyden-your-datas-yours-no-matter-on-whose-server-it-lives\\/\",\"domain_id\":\"763\",\"origin_domain_id\":\"772\",\"response_code\":\"200\",\"mime_type\":\"text\\/html\",\"content_length\":\"13729\",\"encoding\":\"utf-8\",\"date_resolved\":\"2014-08-16 11:31:10\",\"date_published\":\"2014-08-15 18:17:00\",\"title\":\"Sen. Wyden: Your data\\u2019s yours no matter on whose server it lives\",\"excerpt\":\"At the TechFestNW event in Portland on Friday, Oregon\\u00a0Sen. Ron Wyden called for legal reforms\\u00a0that embrace an\\u00a0understanding that the mere act of handing over digital data doesn't mean giving way a user's\\u00a0right to privacy.\",\"word_count\":\"448\",\"innerdomain_redirect\":\"1\",\"login_required\":\"0\",\"has_image\":\"1\",\"has_video\":\"0\",\"is_index\":\"0\",\"is_article\":\"1\",\"used_fallback\":\"0\",\"lang\":\"en\",\"authors\":{\"22604607\":{\"author_id\":\"22604607\",\"name\":\"Nancy Scola\",\"url\":\"http:\\/\\/www.washingtonpost.com\\/people\\/nancy-scola\"}},\"images\":{\"1\":{\"item_id\":\"691452280\",\"image_id\":\"1\",\"src\":\"http:\\/\\/www.washingtonpost.com\\/wp-apps\\/imrs.php?src=http:\\/\\/img.washingtonpost.com\\/blogs\\/the-switch\\/files\\/2013\\/07\\/wyden.jpg&w=480\",\"width\":\"0\",\"height\":\"0\",\"credit\":\"Harry Hamburg\\/AP\",\"caption\":\"Senator Ron Wyden\"}},\"videos\":[],\"resolved_normal_url\":\"http:\\/\\/washingtonpost.com\\/blogs\\/the-switch\\/wp\\/2014\\/08\\/15\\/sen-wyden-your-datas-yours-no-matter-on-whose-server-it-lives\",\"given_url\":\"http:\\/\\/www.washingtonpost.com\\/blogs\\/the-switch\\/wp\\/2014\\/08\\/15\\/sen-wyden-your-datas-yours-no-matter-on-whose-server-it-lives\\/\"},\"status\":1}"
       ]
      },
      {
       "output_type": "stream",
       "stream": "stdout",
       "text": [
        "\n",
        "{\"item\":{\"item_id\":\"691130807\",\"normal_url\":\"http:\\/\\/eff.org\\/deeplinks\\/2014\\/08\\/cell-phone-guide-protesters-updated-2014-edition\",\"resolved_id\":\"691130807\",\"extended_item_id\":\"691130807\",\"resolved_url\":\"https:\\/\\/www.eff.org\\/deeplinks\\/2014\\/08\\/cell-phone-guide-protesters-updated-2014-edition\",\"domain_id\":\"1122\",\"origin_domain_id\":\"772\",\"response_code\":\"200\",\"mime_type\":\"text\\/html\",\"content_length\":\"13234\",\"encoding\":\"utf-8\",\"date_resolved\":\"2014-08-16 10:05:18\",\"date_published\":\"2014-08-15 00:00:00\",\"title\":\"Cell Phone Guide For US Protesters, Updated 2014 Edition\",\"excerpt\":\"With major protests in the news again, we decided it's time to update our cell phone guide for protestors. A lot has changed since we last published this report in 2011, for better and for worse.\",\"word_count\":\"1026\",\"innerdomain_redirect\":\"1\",\"login_required\":\"0\",\"has_image\":\"0\",\"has_video\":\"0\",\"is_index\":\"0\",\"is_article\":\"1\",\"used_fallback\":\"0\",\"lang\":\"en\",\"authors\":{\"273305\":{\"author_id\":\"273305\",\"name\":\"Eva Galperin\",\"url\":\"https:\\/\\/www.eff.org\\/about\\/staff\\/eva-galperin\"}},\"images\":[],\"videos\":[],\"resolved_normal_url\":\"http:\\/\\/eff.org\\/deeplinks\\/2014\\/08\\/cell-phone-guide-protesters-updated-2014-edition\",\"given_url\":\"https:\\/\\/www.eff.org\\/deeplinks\\/2014\\/08\\/cell-phone-guide-protesters-updated-2014-edition\"},\"status\":1}"
       ]
      },
      {
       "output_type": "stream",
       "stream": "stdout",
       "text": [
        "\n",
        "{\"item\":{\"item_id\":\"687337855\",\"normal_url\":\"http:\\/\\/vimr.org\",\"resolved_id\":\"687337855\",\"extended_item_id\":\"687337855\",\"resolved_url\":\"http:\\/\\/vimr.org\\/\",\"domain_id\":\"19858261\",\"origin_domain_id\":\"772\",\"response_code\":\"200\",\"mime_type\":\"text\\/html\",\"content_length\":\"6824\",\"encoding\":\"utf-8\",\"date_resolved\":\"2014-08-16 10:44:18\",\"date_published\":\"0000-00-00 00:00:00\",\"title\":\"VimR\",\"excerpt\":\"VimR Refined Vim Experience for OS X Download v0.1.4 for 10.9 \\u2022 GitHub Project \\u2022 Docs \\u2022 Created by Tae Won Ha Look ma, no emulation! VimR has full Vim inside. This means for instance that you can use all your favorite plugins. File Browser Have an overview over your files.\",\"word_count\":\"98\",\"innerdomain_redirect\":\"1\",\"login_required\":\"0\",\"has_image\":\"1\",\"has_video\":\"0\",\"is_index\":\"1\",\"is_article\":\"0\",\"used_fallback\":\"1\",\"lang\":\"en\",\"authors\":[],\"images\":{\"1\":{\"item_id\":\"687337855\",\"image_id\":\"1\",\"src\":\"http:\\/\\/vimr.org\\/images\\/vimr-icon.png\",\"width\":\"256\",\"height\":\"0\",\"credit\":\"\",\"caption\":\"\"},\"2\":{\"item_id\":\"687337855\",\"image_id\":\"2\",\"src\":\"http:\\/\\/vimr.org\\/images\\/vim-only-window.png\",\"width\":\"0\",\"height\":\"0\",\"credit\":\"\",\"caption\":\"\"},\"3\":{\"item_id\":\"687337855\",\"image_id\":\"3\",\"src\":\"http:\\/\\/vimr.org\\/images\\/file-browser.png\",\"width\":\"0\",\"height\":\"0\",\"credit\":\"\",\"caption\":\"\"},\"4\":{\"item_id\":\"687337855\",\"image_id\":\"4\",\"src\":\"http:\\/\\/vimr.org\\/images\\/open-quickly-window.png\",\"width\":\"0\",\"height\":\"0\",\"credit\":\"\",\"caption\":\"\"},\"5\":{\"item_id\":\"687337855\",\"image_id\":\"5\",\"src\":\"http:\\/\\/vimr.org\\/images\\/preview-window.png\",\"width\":\"0\",\"height\":\"0\",\"credit\":\"\",\"caption\":\"\"}},\"videos\":[],\"resolved_normal_url\":\"http:\\/\\/vimr.org\",\"given_url\":\"http:\\/\\/vimr.org\\/\"},\"status\":1}"
       ]
      },
      {
       "output_type": "stream",
       "stream": "stdout",
       "text": [
        "\n",
        "{\"item\":{\"item_id\":\"690170983\",\"normal_url\":\"http:\\/\\/forharriet.com\\/2014\\/08\\/georgia-teens-develop-app-to-document.html\",\"resolved_id\":\"690170983\",\"extended_item_id\":\"690170983\",\"resolved_url\":\"http:\\/\\/www.forharriet.com\\/2014\\/08\\/georgia-teens-develop-app-to-document.html\",\"domain_id\":\"159491\",\"origin_domain_id\":\"772\",\"response_code\":\"200\",\"mime_type\":\"text\\/html\",\"content_length\":\"64640\",\"encoding\":\"utf-8\",\"date_resolved\":\"2014-08-16 03:26:00\",\"date_published\":\"2014-08-14 00:00:00\",\"title\":\"Georgia Teens Develop App to Document Police Abuse\",\"excerpt\":\"14-year-old Parkview High School Freshman, Caleb Christian was concerned about the number of incidents of police abuse in the news. Still, he knew there were many good police officers in various communities, but had no way of figuring out which communities were highly rated and which were not.\",\"word_count\":\"488\",\"innerdomain_redirect\":\"1\",\"login_required\":\"0\",\"has_image\":\"1\",\"has_video\":\"1\",\"is_index\":\"0\",\"is_article\":\"1\",\"used_fallback\":\"0\",\"lang\":\"en\",\"authors\":{\"3195352\":{\"author_id\":\"3195352\",\"name\":\"For Harriet\",\"url\":\"\"}},\"images\":{\"1\":{\"item_id\":\"690170983\",\"image_id\":\"1\",\"src\":\"http:\\/\\/i1290.photobucket.com\\/albums\\/b536\\/forharriet\\/For%20Harriet\\/6de4398e-18fe-4430-bd44-b3b69a02ef67_zps5b1ecd11.png\",\"width\":\"610\",\"height\":\"0\",\"credit\":\"\",\"caption\":\"\"}},\"videos\":{\"1\":{\"item_id\":\"690170983\",\"video_id\":\"1\",\"src\":\"\\/\\/www.youtube.com\\/embed\\/wH-Veei0jQM?rel=0\",\"width\":\"610\",\"height\":\"343\",\"type\":\"1\",\"vid\":\"wH-Veei0jQM\",\"length\":\"0\"}},\"resolved_normal_url\":\"http:\\/\\/forharriet.com\\/2014\\/08\\/georgia-teens-develop-app-to-document.html\",\"given_url\":\"http:\\/\\/www.forharriet.com\\/2014\\/08\\/georgia-teens-develop-app-to-document.html\"},\"status\":1}"
       ]
      },
      {
       "output_type": "stream",
       "stream": "stdout",
       "text": [
        "\n",
        "{\"item\":{\"item_id\":\"180374419\",\"normal_url\":\"http:\\/\\/projecteuler.net\\/news\",\"resolved_id\":\"180374419\",\"extended_item_id\":\"180374419\",\"resolved_url\":\"http:\\/\\/projecteuler.net\\/news\",\"domain_id\":\"380145\",\"origin_domain_id\":\"13577988\",\"response_code\":\"200\",\"mime_type\":\"\",\"content_length\":\"8680\",\"encoding\":\"utf-8\",\"date_resolved\":\"2014-08-16 04:23:58\",\"date_published\":\"2014-06-22 00:00:00\",\"title\":\"News\",\"excerpt\":\"As many of you will be aware it was discovered on Sunday 15 June 2014 that Project Euler had been hacked.\",\"word_count\":\"236\",\"innerdomain_redirect\":\"1\",\"login_required\":\"0\",\"has_image\":\"0\",\"has_video\":\"0\",\"is_index\":\"1\",\"is_article\":\"1\",\"used_fallback\":\"0\",\"lang\":\"en\",\"authors\":[],\"images\":[],\"videos\":[],\"resolved_normal_url\":\"http:\\/\\/projecteuler.net\\/news\",\"given_url\":\"http:\\/\\/projecteuler.net\\/news\"},\"status\":1}"
       ]
      },
      {
       "output_type": "stream",
       "stream": "stdout",
       "text": [
        "\n",
        "{\"item\":{\"item_id\":\"690873517\",\"normal_url\":\"http:\\/\\/munsonscity.wordpress.com\\/2014\\/08\\/14\\/where-i-should-live-according-to-math\",\"resolved_id\":\"690873517\",\"extended_item_id\":\"690873517\",\"resolved_url\":\"http:\\/\\/munsonscity.wordpress.com\\/2014\\/08\\/14\\/where-i-should-live-according-to-math\\/\",\"domain_id\":\"3087139\",\"origin_domain_id\":\"772\",\"response_code\":\"200\",\"mime_type\":\"text\\/html\",\"content_length\":\"97482\",\"encoding\":\"utf-8\",\"date_resolved\":\"2014-08-16 10:13:01\",\"date_published\":\"2014-08-14 00:00:00\",\"title\":\"Where I Should Live, According to Math\",\"excerpt\":\"I don\\u2019t live in Washington, DC. I live near Washington, DC. I would like to live in it, but it\\u2019s an expensive city, and my income, while above the national average, is well below the regional average, and finding a two bedroom in our price range is difficult.\",\"word_count\":\"801\",\"innerdomain_redirect\":\"1\",\"login_required\":\"0\",\"has_image\":\"1\",\"has_video\":\"0\",\"is_index\":\"0\",\"is_article\":\"1\",\"used_fallback\":\"0\",\"lang\":\"en\",\"authors\":[],\"images\":{\"1\":{\"item_id\":\"690873517\",\"image_id\":\"1\",\"src\":\"https:\\/\\/munsonscity.files.wordpress.com\\/2014\\/08\\/affordability.jpeg\",\"width\":\"0\",\"height\":\"0\",\"credit\":\"\",\"caption\":\"\"},\"2\":{\"item_id\":\"690873517\",\"image_id\":\"2\",\"src\":\"https:\\/\\/munsonscity.files.wordpress.com\\/2014\\/08\\/variables1.jpg\",\"width\":\"0\",\"height\":\"0\",\"credit\":\"\",\"caption\":\"\"},\"3\":{\"item_id\":\"690873517\",\"image_id\":\"3\",\"src\":\"https:\\/\\/munsonscity.files.wordpress.com\\/2014\\/08\\/walkability.jpeg\",\"width\":\"0\",\"height\":\"0\",\"credit\":\"\",\"caption\":\"\"},\"4\":{\"item_id\":\"690873517\",\"image_id\":\"4\",\"src\":\"https:\\/\\/munsonscity.files.wordpress.com\\/2014\\/08\\/intersected.jpeg\",\"width\":\"0\",\"height\":\"0\",\"credit\":\"\",\"caption\":\"\"},\"5\":{\"item_id\":\"690873517\",\"image_id\":\"5\",\"src\":\"https:\\/\\/munsonscity.files.wordpress.com\\/2014\\/08\\/capital-hill-01.jpg\",\"width\":\"630\",\"height\":\"419\",\"credit\":\"\",\"caption\":\"\"}},\"videos\":[],\"resolved_normal_url\":\"http:\\/\\/munsonscity.wordpress.com\\/2014\\/08\\/14\\/where-i-should-live-according-to-math\",\"given_url\":\"http:\\/\\/munsonscity.wordpress.com\\/2014\\/08\\/14\\/where-i-should-live-according-to-math\\/\"},\"status\":1}"
       ]
      },
      {
       "output_type": "stream",
       "stream": "stdout",
       "text": [
        "\n",
        "{\"item\":{\"item_id\":\"691187966\",\"normal_url\":\"http:\\/\\/github.com\\/cdosborn\\/lit\",\"resolved_id\":\"691187966\",\"extended_item_id\":\"691187966\",\"resolved_url\":\"https:\\/\\/github.com\\/cdosborn\\/lit\",\"domain_id\":\"965\",\"origin_domain_id\":\"772\",\"response_code\":\"200\",\"mime_type\":\"text\\/html\",\"content_length\":\"40224\",\"encoding\":\"utf-8\",\"date_resolved\":\"2014-08-15 23:52:25\",\"date_published\":\"2014-08-16 00:00:00\",\"title\":\"cdosborn\\/lit \\u00b7 GitHub\",\"excerpt\":\"What is literate programming? Literate programming is a way to write programs prioritized for understanding. All literate programs consist of prose and literate constructs. For example, this paragraph is a valid literate program.\",\"word_count\":\"399\",\"innerdomain_redirect\":\"1\",\"login_required\":\"0\",\"has_image\":\"0\",\"has_video\":\"0\",\"is_index\":\"1\",\"is_article\":\"1\",\"used_fallback\":\"0\",\"lang\":\"en\",\"authors\":[],\"images\":[],\"videos\":[],\"resolved_normal_url\":\"http:\\/\\/github.com\\/cdosborn\\/lit\",\"given_url\":\"https:\\/\\/github.com\\/cdosborn\\/lit\"},\"status\":1}"
       ]
      },
      {
       "output_type": "stream",
       "stream": "stdout",
       "text": [
        "\n",
        "{\"item\":{\"item_id\":\"532999877\",\"normal_url\":\"http:\\/\\/vindinium.org\",\"resolved_id\":\"532999877\",\"extended_item_id\":\"532999877\",\"resolved_url\":\"http:\\/\\/vindinium.org\\/\",\"domain_id\":\"16442355\",\"origin_domain_id\":\"772\",\"response_code\":\"200\",\"mime_type\":\"text\\/html\",\"content_length\":\"20930\",\"encoding\":\"utf-8\",\"date_resolved\":\"2014-08-15 23:54:08\",\"date_published\":\"0000-00-00 00:00:00\",\"title\":\"AI contest | Vindinium\",\"excerpt\":\"Vindinium is an Artificial Intelligence programming challenge. You have to take the control of a legendary hero using the programming language of your choice. You will fight with other AI for a predetermined number of turns and the hero with the greatest amount of gold will win.\",\"word_count\":\"82\",\"innerdomain_redirect\":\"1\",\"login_required\":\"0\",\"has_image\":\"1\",\"has_video\":\"0\",\"is_index\":\"1\",\"is_article\":\"0\",\"used_fallback\":\"1\",\"lang\":\"en\",\"authors\":[],\"images\":{\"1\":{\"item_id\":\"532999877\",\"image_id\":\"1\",\"src\":\"http:\\/\\/vindinium.org\\/assets\\/img\\/ui\\/player1.png\",\"width\":\"0\",\"height\":\"0\",\"credit\":\"\",\"caption\":\"\"},\"2\":{\"item_id\":\"532999877\",\"image_id\":\"2\",\"src\":\"http:\\/\\/vindinium.org\\/assets\\/img\\/ui\\/player2.png\",\"width\":\"0\",\"height\":\"0\",\"credit\":\"\",\"caption\":\"\"},\"3\":{\"item_id\":\"532999877\",\"image_id\":\"3\",\"src\":\"http:\\/\\/vindinium.org\\/assets\\/img\\/ui\\/player3.png\",\"width\":\"0\",\"height\":\"0\",\"credit\":\"\",\"caption\":\"\"},\"4\":{\"item_id\":\"532999877\",\"image_id\":\"4\",\"src\":\"http:\\/\\/vindinium.org\\/assets\\/img\\/ui\\/player4.png\",\"width\":\"0\",\"height\":\"0\",\"credit\":\"\",\"caption\":\"\"}},\"videos\":[],\"resolved_normal_url\":\"http:\\/\\/vindinium.org\",\"given_url\":\"http:\\/\\/vindinium.org\\/\"},\"status\":1}"
       ]
      },
      {
       "output_type": "stream",
       "stream": "stdout",
       "text": [
        "\n",
        "{\"item\":{\"item_id\":\"584738492\",\"normal_url\":\"http:\\/\\/archive.wired.com\\/geekdad\\/2012\\/01\\/everything-about-learning\",\"resolved_id\":\"584738492\",\"extended_item_id\":\"584738492\",\"resolved_url\":\"http:\\/\\/archive.wired.com\\/geekdad\\/2012\\/01\\/everything-about-learning\\/\",\"domain_id\":\"17119863\",\"origin_domain_id\":\"772\",\"response_code\":\"200\",\"mime_type\":\"text\\/html\",\"content_length\":\"26524\",\"encoding\":\"utf-8\",\"date_resolved\":\"2014-08-16 10:19:15\",\"date_published\":\"2014-05-10 00:00:00\",\"title\":\"Everything You Thought You Knew About Learning Is Wrong\",\"excerpt\":\"Taking notes during class? Topic-focused study? A consistent learning environment? All are exactly opposite of the best strategies for learning.  It turns out that everything I thought I knew about learning is wrong.\",\"word_count\":\"864\",\"innerdomain_redirect\":\"1\",\"login_required\":\"0\",\"has_image\":\"1\",\"has_video\":\"0\",\"is_index\":\"0\",\"is_article\":\"1\",\"used_fallback\":\"0\",\"lang\":\"en\",\"authors\":{\"18061407\":{\"author_id\":\"18061407\",\"name\":\"Garth Sundem\",\"url\":\"http:\\/\\/archive.wired.com\\/geekdad\\/author\\/garthsundem\\/\"}},\"images\":{\"1\":{\"item_id\":\"584738492\",\"image_id\":\"1\",\"src\":\"http:\\/\\/archive.wired.com\\/images\\/1x1.trans.gif\",\"width\":\"640\",\"height\":\"480\",\"credit\":\"\",\"caption\":\"Unfortunately, learning through book osmosis doesn't make the learning strategies list. Photo: jemsweb\\/Flickr\"},\"2\":{\"item_id\":\"584738492\",\"image_id\":\"2\",\"src\":\"http:\\/\\/www.wired.com\\/geekdad\\/wp-content\\/uploads\\/2012\\/01\\/alseep.book_.jemsweb.jpg\",\"width\":\"640\",\"height\":\"480\",\"credit\":\"\",\"caption\":\"Unfortunately, learning through book osmosis doesn't make the learning strategies list. Photo: jemsweb\\/Flickr\"}},\"videos\":[],\"resolved_normal_url\":\"http:\\/\\/archive.wired.com\\/geekdad\\/2012\\/01\\/everything-about-learning\",\"given_url\":\"http:\\/\\/archive.wired.com\\/geekdad\\/2012\\/01\\/everything-about-learning\\/\"},\"status\":1}"
       ]
      },
      {
       "output_type": "stream",
       "stream": "stdout",
       "text": [
        "\n",
        "{\"item\":{\"item_id\":\"690381037\",\"normal_url\":\"http:\\/\\/nytimes.com\\/interactive\\/2014\\/08\\/15\\/magazine\\/bad-paper-debt-collector.html\",\"resolved_id\":\"690381037\",\"extended_item_id\":\"690381037\",\"resolved_url\":\"http:\\/\\/www.nytimes.com\\/interactive\\/2014\\/08\\/15\\/magazine\\/bad-paper-debt-collector.html\",\"domain_id\":\"745\",\"origin_domain_id\":\"745\",\"response_code\":\"200\",\"mime_type\":\"text\\/html\",\"content_length\":\"184084\",\"encoding\":\"utf-8\",\"date_resolved\":\"2014-08-16 11:39:06\",\"date_published\":\"2014-08-14 00:00:00\",\"title\":\"Inside the Dark, Lucrative World of Consumer Debt Collection\",\"excerpt\":\"One afternoon in October 2009, a former banking executive named Aaron Siegel waited impatiently in the master bedroom of a house in Buffalo that served as his office.\",\"word_count\":\"7592\",\"innerdomain_redirect\":\"1\",\"login_required\":\"0\",\"has_image\":\"1\",\"has_video\":\"0\",\"is_index\":\"0\",\"is_article\":\"1\",\"used_fallback\":\"0\",\"lang\":\"en\",\"authors\":{\"4403\":{\"author_id\":\"4403\",\"name\":\"JAKE HALPERN\",\"url\":\"\"}},\"images\":{\"1\":{\"item_id\":\"690381037\",\"image_id\":\"1\",\"src\":\"http:\\/\\/graphics8.nytimes.com\\/newsgraphics\\/2014\\/08\\/07\\/bad-paper\\/76175f1a97f5f4f06218a120fcddb4ba0e201be2\\/images\\/coverillo_final_web.png\",\"width\":\"0\",\"height\":\"0\",\"credit\":\"\\r\\n      Illustration  Francesco Francavilla\",\"caption\":\"\\r\\n      CreditIllustration by Francesco Francavilla\\r\\n    \"},\"2\":{\"item_id\":\"690381037\",\"image_id\":\"2\",\"src\":\"http:\\/\\/graphics8.nytimes.com\\/newsgraphics\\/2014\\/08\\/07\\/bad-paper\\/76175f1a97f5f4f06218a120fcddb4ba0e201be2\\/images\\/rattman_car.jpg\",\"width\":\"0\",\"height\":\"0\",\"credit\":\"\\r\\n            \\r\\n            Jonno Rattman for The New York Times\\r\\n        \",\"caption\":\"Aaron Siegel driving his Maserati in Buffalo.\\r\\n        \\r\\n            Credit\\r\\n            Jonno Rattman for The New York Times\\r\\n        \\r\\n    \"},\"3\":{\"item_id\":\"690381037\",\"image_id\":\"3\",\"src\":\"http:\\/\\/graphics8.nytimes.com\\/newsgraphics\\/2014\\/08\\/07\\/bad-paper\\/76175f1a97f5f4f06218a120fcddb4ba0e201be2\\/images\\/rattman_aaron.jpg\",\"width\":\"0\",\"height\":\"0\",\"credit\":\"\\r\\n            \\r\\n            Jonno Rattman for The New York Times\\r\\n        \",\"caption\":\"Siegel at his office in Buffalo.\\r\\n        \\r\\n            Credit\\r\\n            Jonno Rattman for The New York Times\\r\\n        \\r\\n    \"},\"4\":{\"item_id\":\"690381037\",\"image_id\":\"4\",\"src\":\"http:\\/\\/graphics8.nytimes.com\\/newsgraphics\\/2014\\/08\\/07\\/bad-paper\\/76175f1a97f5f4f06218a120fcddb4ba0e201be2\\/images\\/rattman_brandon.jpg\",\"width\":\"0\",\"height\":\"0\",\"credit\":\"\\r\\n            \\r\\n            Jonno Rattman for The New York Times\\r\\n        \",\"caption\":\"Brandon Wilson.\\r\\n        \\r\\n            Credit\\r\\n            Jonno Rattman for The New York Times\\r\\n        \\r\\n    \"},\"5\":{\"item_id\":\"690381037\",\"image_id\":\"5\",\"src\":\"http:\\/\\/graphics8.nytimes.com\\/newsgraphics\\/2014\\/08\\/07\\/bad-paper\\/76175f1a97f5f4f06218a120fcddb4ba0e201be2\\/images\\/rattman_paper.jpg\",\"width\":\"0\",\"height\":\"0\",\"credit\":\"\\r\\n            \\r\\n            Jonno Rattman for The New York Times\\r\\n        \",\"caption\":\"The script Wilson uses when calling consumers to recover debts.\\r\\n        \\r\\n            Credit\\r\\n            Jonno Rattman for The New York Times\\r\\n        \\r\\n    \"},\"6\":{\"item_id\":\"690381037\",\"image_id\":\"6\",\"src\":\"http:\\/\\/graphics8.nytimes.com\\/newsgraphics\\/2014\\/08\\/07\\/bad-paper\\/76175f1a97f5f4f06218a120fcddb4ba0e201be2\\/images\\/rattman_aaronwife.jpg\",\"width\":\"0\",\"height\":\"0\",\"credit\":\"\\r\\n            \\r\\n            Jonno Rattman for The New York Times\\r\\n        \",\"caption\":\"Siegel playing pool recently with his wife, Stacey.\\r\\n        \\r\\n            Credit\\r\\n            Jonno Rattman for The New York Times\\r\\n        \\r\\n    \"},\"7\":{\"item_id\":\"690381037\",\"image_id\":\"7\",\"src\":\"http:\\/\\/graphics8.nytimes.com\\/newsgraphics\\/2014\\/08\\/07\\/bad-paper\\/76175f1a97f5f4f06218a120fcddb4ba0e201be2\\/images\\/rattman_brandonfam.jpg\",\"width\":\"0\",\"height\":\"0\",\"credit\":\"\\r\\n            \\r\\n            Jonno Rattman for The New York Times\\r\\n        \",\"caption\":\"Wilson at home with his wife, Sharon, and their dog, Brady.\\r\\n        \\r\\n            Credit\\r\\n            Jonno Rattman for The New York Times\\r\\n        \\r\\n    \"},\"8\":{\"item_id\":\"690381037\",\"image_id\":\"8\",\"src\":\"http:\\/\\/graphics8.nytimes.com\\/newsgraphics\\/2014\\/08\\/07\\/bad-paper\\/76175f1a97f5f4f06218a120fcddb4ba0e201be2\\/images\\/rattman_blinds.jpg\",\"width\":\"0\",\"height\":\"0\",\"credit\":\"\\r\\n            \\r\\n            Jonno Rattman for The New York Times\\r\\n        \",\"caption\":\"Siegel at his office window.\\r\\n        \\r\\n            Credit\\r\\n            Jonno Rattman for The New York Times\\r\\n        \\r\\n    \"},\"9\":{\"item_id\":\"690381037\",\"image_id\":\"9\",\"src\":\"http:\\/\\/graphics8.nytimes.com\\/newsgraphics\\/2014\\/08\\/07\\/bad-paper\\/76175f1a97f5f4f06218a120fcddb4ba0e201be2\\/images\\/rattman_building.jpg\",\"width\":\"0\",\"height\":\"0\",\"credit\":\"\\r\\n            \\r\\n            Jonno Rattman for The New York Times\\r\\n        \",\"caption\":\"A house on Delaware Avenue that is now home to Siegel\\u2019s private-equity firm.\\r\\n        \\r\\n            Credit\\r\\n            Jonno Rattman for The New York Times\\r\\n        \\r\\n    \"}},\"videos\":[],\"resolved_normal_url\":\"http:\\/\\/nytimes.com\\/interactive\\/2014\\/08\\/15\\/magazine\\/bad-paper-debt-collector.html\",\"given_url\":\"http:\\/\\/www.nytimes.com\\/interactive\\/2014\\/08\\/15\\/magazine\\/bad-paper-debt-collector.html\"},\"status\":1}"
       ]
      },
      {
       "output_type": "stream",
       "stream": "stdout",
       "text": [
        "\n",
        "{\"item\":{\"item_id\":\"690494724\",\"normal_url\":\"http:\\/\\/technologyreview.com\\/news\\/527051\\/the-man-who-really-built-bitcoin\",\"resolved_id\":\"690494724\",\"extended_item_id\":\"690494724\",\"resolved_url\":\"http:\\/\\/www.technologyreview.com\\/news\\/527051\\/the-man-who-really-built-bitcoin\\/\",\"domain_id\":\"1020\",\"origin_domain_id\":\"772\",\"response_code\":\"200\",\"mime_type\":\"text\\/html\",\"content_length\":\"29563\",\"encoding\":\"utf-8\",\"date_resolved\":\"2014-08-16 08:14:59\",\"date_published\":\"2014-08-15 00:00:00\",\"title\":\"Meet Gavin Andresen, the Most Powerful Person in the World of Bitcoin\",\"excerpt\":\"In March, a bewildered retired man faced journalists yelling questions about virtual currency outside his suburban home in Temple City, California.\",\"word_count\":\"2195\",\"innerdomain_redirect\":\"1\",\"login_required\":\"0\",\"has_image\":\"1\",\"has_video\":\"0\",\"is_index\":\"0\",\"is_article\":\"1\",\"used_fallback\":\"0\",\"lang\":\"en\",\"authors\":{\"4685944\":{\"author_id\":\"4685944\",\"name\":\"Tom Simonite\",\"url\":\"http:\\/\\/www.technologyreview.com\\/contributor\\/tom-simonite\\/\"}},\"images\":{\"1\":{\"item_id\":\"690494724\",\"image_id\":\"1\",\"src\":\"http:\\/\\/www.technologyreview.com\\/sites\\/default\\/files\\/images\\/bitcoinx299.png\",\"width\":\"299\",\"height\":\"299\",\"credit\":\"\",\"caption\":\"\"}},\"videos\":[],\"resolved_normal_url\":\"http:\\/\\/technologyreview.com\\/news\\/527051\\/the-man-who-really-built-bitcoin\",\"given_url\":\"http:\\/\\/www.technologyreview.com\\/news\\/527051\\/the-man-who-really-built-bitcoin\\/\"},\"status\":1}"
       ]
      },
      {
       "output_type": "stream",
       "stream": "stdout",
       "text": [
        "\n",
        "{\"item\":{\"item_id\":\"690534610\",\"normal_url\":\"http:\\/\\/idlewords.com\\/2014\\/08\\/green_arabia.htm\",\"resolved_id\":\"690534610\",\"extended_item_id\":\"690534610\",\"resolved_url\":\"http:\\/\\/www.idlewords.com\\/2014\\/08\\/green_arabia.htm\",\"domain_id\":\"221221\",\"origin_domain_id\":\"221221\",\"response_code\":\"200\",\"mime_type\":\"text\\/html\",\"content_length\":\"18046\",\"encoding\":\"utf-8\",\"date_resolved\":\"2014-08-16 11:14:25\",\"date_published\":\"0000-00-00 00:00:00\",\"title\":\"Green Arabia\",\"excerpt\":\"It was a dark day when Islam met the loudspeaker. All travelers to the Middle East discover that this normally self-assured religion gets insecure in the small hours of night and feels it has to rehearse its foundational beliefs, in public, at 190 dB.  Hey, wake up. God is great.\",\"word_count\":\"5958\",\"innerdomain_redirect\":\"0\",\"login_required\":\"0\",\"has_image\":\"1\",\"has_video\":\"0\",\"is_index\":\"0\",\"is_article\":\"1\",\"used_fallback\":\"0\",\"lang\":\"en\",\"authors\":[],\"images\":{\"1\":{\"item_id\":\"690534610\",\"image_id\":\"1\",\"src\":\"http:\\/\\/idlewords.com\\/images\\/yemen\\/green_landscape.jpg\",\"width\":\"0\",\"height\":\"0\",\"credit\":\"\",\"caption\":\"\"},\"2\":{\"item_id\":\"690534610\",\"image_id\":\"2\",\"src\":\"http:\\/\\/idlewords.com\\/images\\/yemen\\/hotel_view.jpg\",\"width\":\"0\",\"height\":\"0\",\"credit\":\"\",\"caption\":\"\"},\"3\":{\"item_id\":\"690534610\",\"image_id\":\"3\",\"src\":\"http:\\/\\/idlewords.com\\/images\\/yemen\\/gourds.jpg\",\"width\":\"0\",\"height\":\"0\",\"credit\":\"\",\"caption\":\"\"},\"4\":{\"item_id\":\"690534610\",\"image_id\":\"4\",\"src\":\"http:\\/\\/idlewords.com\\/images\\/yemen\\/straight_road.jpg\",\"width\":\"0\",\"height\":\"0\",\"credit\":\"\",\"caption\":\"\"},\"5\":{\"item_id\":\"690534610\",\"image_id\":\"5\",\"src\":\"http:\\/\\/idlewords.com\\/images\\/yemen\\/restaurant.jpg\",\"width\":\"0\",\"height\":\"0\",\"credit\":\"\",\"caption\":\"\"},\"6\":{\"item_id\":\"690534610\",\"image_id\":\"6\",\"src\":\"http:\\/\\/idlewords.com\\/images\\/yemen\\/ibb_sunshine.jpg\",\"width\":\"0\",\"height\":\"0\",\"credit\":\"\",\"caption\":\"\"},\"7\":{\"item_id\":\"690534610\",\"image_id\":\"7\",\"src\":\"http:\\/\\/idlewords.com\\/images\\/yemen\\/rainbow_arches.jpg\",\"width\":\"0\",\"height\":\"0\",\"credit\":\"\",\"caption\":\"\"},\"8\":{\"item_id\":\"690534610\",\"image_id\":\"8\",\"src\":\"http:\\/\\/idlewords.com\\/images\\/yemen\\/arwa_men.jpg\",\"width\":\"0\",\"height\":\"0\",\"credit\":\"\",\"caption\":\"\"},\"9\":{\"item_id\":\"690534610\",\"image_id\":\"9\",\"src\":\"http:\\/\\/idlewords.com\\/images\\/yemen\\/ficus.jpg\",\"width\":\"0\",\"height\":\"0\",\"credit\":\"\",\"caption\":\"\"},\"10\":{\"item_id\":\"690534610\",\"image_id\":\"10\",\"src\":\"http:\\/\\/idlewords.com\\/images\\/yemen\\/camels.jpg\",\"width\":\"0\",\"height\":\"0\",\"credit\":\"\",\"caption\":\"\"}},\"videos\":[],\"resolved_normal_url\":\"http:\\/\\/idlewords.com\\/2014\\/08\\/green_arabia.htm\",\"given_url\":\"http:\\/\\/www.idlewords.com\\/2014\\/08\\/green_arabia.htm\"},\"status\":1}"
       ]
      },
      {
       "output_type": "stream",
       "stream": "stdout",
       "text": [
        "\n",
        "{\"item\":{\"item_id\":\"683959613\",\"normal_url\":\"http:\\/\\/pewinternet.org\\/files\\/2014\\/08\\/Future-of-AI-Robotics-and-Jobs.pdf\",\"resolved_id\":\"683959613\",\"extended_item_id\":\"683959613\",\"resolved_url\":\"http:\\/\\/www.pewinternet.org\\/files\\/2014\\/08\\/Future-of-AI-Robotics-and-Jobs.pdf\",\"domain_id\":\"1046\",\"origin_domain_id\":\"57554\",\"response_code\":\"0\",\"mime_type\":\"application\\/pdf\",\"content_length\":\"840702\",\"encoding\":\"\",\"date_resolved\":\"2014-08-16 05:51:29\",\"date_published\":\"0000-00-00 00:00:00\",\"title\":\"\",\"excerpt\":\"\",\"word_count\":\"0\",\"innerdomain_redirect\":\"1\",\"login_required\":\"0\",\"has_image\":\"0\",\"has_video\":\"0\",\"is_index\":\"0\",\"is_article\":\"0\",\"used_fallback\":\"0\",\"lang\":\"\",\"authors\":[],\"images\":[],\"videos\":[],\"resolved_normal_url\":\"http:\\/\\/pewinternet.org\\/files\\/2014\\/08\\/Future-of-AI-Robotics-and-Jobs.pdf\",\"given_url\":\"http:\\/\\/www.pewinternet.org\\/files\\/2014\\/08\\/Future-of-AI-Robotics-and-Jobs.pdf\"},\"status\":1}"
       ]
      },
      {
       "output_type": "stream",
       "stream": "stdout",
       "text": [
        "\n",
        "{\"item\":{\"item_id\":\"68850066\",\"normal_url\":\"http:\\/\\/newstatesman.com\\/economy\\/2011\\/02\\/london-corporation-city\",\"resolved_id\":\"68850066\",\"extended_item_id\":\"68850066\",\"resolved_url\":\"http:\\/\\/www.newstatesman.com\\/economy\\/2011\\/02\\/london-corporation-city\",\"domain_id\":\"5864\",\"origin_domain_id\":\"772\",\"response_code\":\"200\",\"mime_type\":\"text\\/html\",\"content_length\":\"25854\",\"encoding\":\"utf-8\",\"date_resolved\":\"2014-08-16 10:22:52\",\"date_published\":\"2014-02-24 20:11:00\",\"title\":\"The tax haven in the heart of Britain\",\"excerpt\":\"On 7 October 2002, an Anglican priest, William Campbell-Taylor, and an English-Jewish academic, Maurice Glasman, came to the law lords to challenge a parliamentary bill.\",\"word_count\":\"2881\",\"innerdomain_redirect\":\"1\",\"login_required\":\"0\",\"has_image\":\"1\",\"has_video\":\"0\",\"is_index\":\"0\",\"is_article\":\"1\",\"used_fallback\":\"0\",\"lang\":\"en\",\"authors\":{\"4299400\":{\"author_id\":\"4299400\",\"name\":\"Nicholas Shaxson\",\"url\":\"http:\\/\\/www.newstatesman.com\\/writers\\/nicholas_shaxson\"}},\"images\":{\"1\":{\"item_id\":\"68850066\",\"image_id\":\"1\",\"src\":\"http:\\/\\/www.newstatesman.com\\/sites\\/default\\/files\\/styles\\/fullnode_image\\/public\\/articles\\/2011\\/20110216_2011_08tax_w.jpg?itok=faS3zGWw\",\"width\":\"510\",\"height\":\"348\",\"credit\":\"\",\"caption\":\"\"}},\"videos\":[],\"resolved_normal_url\":\"http:\\/\\/newstatesman.com\\/economy\\/2011\\/02\\/london-corporation-city\",\"given_url\":\"http:\\/\\/www.newstatesman.com\\/economy\\/2011\\/02\\/london-corporation-city\"},\"status\":1}"
       ]
      },
      {
       "output_type": "stream",
       "stream": "stdout",
       "text": [
        "\n",
        "{\"item\":{\"item_id\":\"690925131\",\"normal_url\":\"http:\\/\\/practicalguidetomobileapps.com\",\"resolved_id\":\"690925131\",\"extended_item_id\":\"690925131\",\"resolved_url\":\"http:\\/\\/www.practicalguidetomobileapps.com\\/\",\"domain_id\":\"19932801\",\"origin_domain_id\":\"2252583\",\"response_code\":\"200\",\"mime_type\":\"text\\/html\",\"content_length\":\"3416\",\"encoding\":\"utf-8\",\"date_resolved\":\"2014-08-16 08:18:28\",\"date_published\":\"0000-00-00 00:00:00\",\"title\":\"Playbook to Build Apps with PhoneGap and Famo.us\",\"excerpt\":\"Through my experiences building PhoneGap apps, I've encountered many unknowns\\/bugs\\/features.\",\"word_count\":\"141\",\"innerdomain_redirect\":\"1\",\"login_required\":\"0\",\"has_image\":\"0\",\"has_video\":\"0\",\"is_index\":\"1\",\"is_article\":\"0\",\"used_fallback\":\"0\",\"lang\":\"en\",\"authors\":[],\"images\":[],\"videos\":[],\"resolved_normal_url\":\"http:\\/\\/practicalguidetomobileapps.com\",\"given_url\":\"http:\\/\\/www.practicalguidetomobileapps.com\\/\"},\"status\":1}"
       ]
      },
      {
       "output_type": "stream",
       "stream": "stdout",
       "text": [
        "\n",
        "{\"item\":{\"item_id\":\"541451033\",\"normal_url\":\"http:\\/\\/github.com\\/okTurtles\\/dnschain\",\"resolved_id\":\"541451033\",\"extended_item_id\":\"541451033\",\"resolved_url\":\"https:\\/\\/github.com\\/okTurtles\\/dnschain\",\"domain_id\":\"965\",\"origin_domain_id\":\"772\",\"response_code\":\"200\",\"mime_type\":\"text\\/html\",\"content_length\":\"75803\",\"encoding\":\"utf-8\",\"date_resolved\":\"2014-08-16 02:47:00\",\"date_published\":\"2014-07-10 00:00:00\",\"title\":\"okTurtles\\/dnschain \\u00b7 GitHub\",\"excerpt\":\"DNSChain (formerly DNSNMC) makes it possible to be certain that you're communicating with who you want to communicate with, and connecting to the sites that you want to connect to, without anyone secretly listening in on your conversations in between.  X.\",\"word_count\":\"1291\",\"innerdomain_redirect\":\"1\",\"login_required\":\"0\",\"has_image\":\"1\",\"has_video\":\"0\",\"is_index\":\"1\",\"is_article\":\"1\",\"used_fallback\":\"0\",\"lang\":\"en\",\"authors\":[],\"images\":{\"3\":{\"item_id\":\"541451033\",\"image_id\":\"3\",\"src\":\"https:\\/\\/camo.githubusercontent.com\\/bcdcf158247fced1e96f0eb5846427da99963bb2\\/68747470733a2f2f7777772e74616f6566666563742e636f6d2f696e636c756465732f696d616765732f747769747465722d6770672d732e6a7067\",\"width\":\"0\",\"height\":\"0\",\"credit\":\"\",\"caption\":\"\"}},\"videos\":[],\"resolved_normal_url\":\"http:\\/\\/github.com\\/okTurtles\\/dnschain\",\"given_url\":\"https:\\/\\/github.com\\/okTurtles\\/dnschain\"},\"status\":1}"
       ]
      },
      {
       "output_type": "stream",
       "stream": "stdout",
       "text": [
        "\n",
        "{\"item\":{\"item_id\":\"691086521\",\"normal_url\":\"http:\\/\\/omniref.com\\/blog\\/blog\\/2014\\/08\\/15\\/browser-plugins-for-chrome-and-firefox\",\"resolved_id\":\"691086521\",\"extended_item_id\":\"691086521\",\"resolved_url\":\"http:\\/\\/www.omniref.com\\/blog\\/blog\\/2014\\/08\\/15\\/browser-plugins-for-chrome-and-firefox\\/\",\"domain_id\":\"15257584\",\"origin_domain_id\":\"713\",\"response_code\":\"200\",\"mime_type\":\"\",\"content_length\":\"6981\",\"encoding\":\"utf-8\",\"date_resolved\":\"2014-08-15 18:43:50\",\"date_published\":\"2014-08-15 00:00:00\",\"title\":\"Better Browsing for Ruby Developers: Omniref Plugins for Chrome and Firefox\",\"excerpt\":\"Today we\\u2019re exicted to release our browser addons for Chrome and Firefox. These do a few cool things to make your life as a Ruby developer much easier:  They add an Omniref \\u201cinstant result\\u201d box to your Google searches.\",\"word_count\":\"212\",\"innerdomain_redirect\":\"1\",\"login_required\":\"0\",\"has_image\":\"1\",\"has_video\":\"0\",\"is_index\":\"0\",\"is_article\":\"1\",\"used_fallback\":\"0\",\"lang\":\"en\",\"authors\":{\"336893\":{\"author_id\":\"336893\",\"name\":\"Tim Robertson\",\"url\":\"\"}},\"images\":{\"1\":{\"item_id\":\"691086521\",\"image_id\":\"1\",\"src\":\"http:\\/\\/www.omniref.com\\/blog\\/images\\/firefox_google_screenshot.png\",\"width\":\"0\",\"height\":\"0\",\"credit\":\"\",\"caption\":\"\"},\"2\":{\"item_id\":\"691086521\",\"image_id\":\"2\",\"src\":\"http:\\/\\/www.omniref.com\\/blog\\/images\\/firefox_github_screenshot.png\",\"width\":\"0\",\"height\":\"0\",\"credit\":\"\",\"caption\":\"\"},\"3\":{\"item_id\":\"691086521\",\"image_id\":\"3\",\"src\":\"http:\\/\\/www.omniref.com\\/blog\\/images\\/firefox_context_menu_screenshot.png\",\"width\":\"0\",\"height\":\"0\",\"credit\":\"\",\"caption\":\"\"}},\"videos\":[],\"resolved_normal_url\":\"http:\\/\\/omniref.com\\/blog\\/blog\\/2014\\/08\\/15\\/browser-plugins-for-chrome-and-firefox\",\"given_url\":\"http:\\/\\/www.omniref.com\\/blog\\/blog\\/2014\\/08\\/15\\/browser-plugins-for-chrome-and-firefox\\/\"},\"status\":1}"
       ]
      },
      {
       "output_type": "stream",
       "stream": "stdout",
       "text": [
        "\n",
        "{\"item\":{\"item_id\":\"647186888\",\"normal_url\":\"http:\\/\\/queue.acm.org\\/detail.cfm?id=2636165\",\"resolved_id\":\"647186888\",\"extended_item_id\":\"647186888\",\"resolved_url\":\"http:\\/\\/queue.acm.org\\/detail.cfm?id=2636165\",\"domain_id\":\"26758\",\"origin_domain_id\":\"772\",\"response_code\":\"200\",\"mime_type\":\"text\\/html\",\"content_length\":\"99203\",\"encoding\":\"utf-8\",\"date_resolved\":\"2014-08-15 22:19:59\",\"date_published\":\"2014-06-19 00:00:00\",\"title\":\"Quality Software Costs Money - Heartbleed Was Free\",\"excerpt\":\"The world runs on free and open-source software, FOSS for short, and to some degree it has predictably infiltrated just about any software-based product anywhere in the world.  What's not to like about FOSS? Ready-to-run source code, ready to download, no license payments\\u2014just take it and run.\",\"word_count\":\"2498\",\"innerdomain_redirect\":\"1\",\"login_required\":\"0\",\"has_image\":\"1\",\"has_video\":\"0\",\"is_index\":\"0\",\"is_article\":\"1\",\"used_fallback\":\"0\",\"lang\":\"en\",\"authors\":{\"831950\":{\"author_id\":\"831950\",\"name\":\"Poul-Henning Kamp\",\"url\":\"\"}},\"images\":{\"1\":{\"item_id\":\"647186888\",\"image_id\":\"1\",\"src\":\"http:\\/\\/queue.acm.org\\/img\\/q%20stamp_small.jpg\",\"width\":\"26\",\"height\":\"45\",\"credit\":\"\",\"caption\":\"\"}},\"videos\":[],\"resolved_normal_url\":\"http:\\/\\/queue.acm.org\\/detail.cfm?id=2636165\",\"given_url\":\"http:\\/\\/queue.acm.org\\/detail.cfm?id=2636165\"},\"status\":1}"
       ]
      },
      {
       "output_type": "stream",
       "stream": "stdout",
       "text": [
        "\n",
        "{\"item\":{\"item_id\":\"690980598\",\"normal_url\":\"http:\\/\\/uwaterloo.ca\\/stories\\/waterloo-astrophysicists-propose-new-twist-big-bang?utm_source=social_organic&utm_medium=Facebook&utm_campaign=sciam_infographic\",\"resolved_id\":\"690980598\",\"extended_item_id\":\"690980598\",\"resolved_url\":\"https:\\/\\/uwaterloo.ca\\/stories\\/waterloo-astrophysicists-propose-new-twist-big-bang?utm_source=social_organic&utm_medium=Facebook&utm_campaign=sciam_infographic\",\"domain_id\":\"7336\",\"origin_domain_id\":\"772\",\"response_code\":\"200\",\"mime_type\":\"text\\/html\",\"content_length\":\"8973\",\"encoding\":\"utf-8\",\"date_resolved\":\"2014-08-15 20:38:56\",\"date_published\":\"2014-08-07 00:00:00\",\"title\":\"Waterloo astrophysicists propose new twist on Big Bang in Scientific American\",\"excerpt\":\"The Big Bang poses a big question: if it was indeed the cataclysm that blasted our universe into existence 13.7 billion years ago, what sparked it?  Three University of Waterloo astrophysicists have a new idea about what might have come before the Big Bang.\",\"word_count\":\"646\",\"innerdomain_redirect\":\"1\",\"login_required\":\"0\",\"has_image\":\"1\",\"has_video\":\"0\",\"is_index\":\"0\",\"is_article\":\"1\",\"used_fallback\":\"0\",\"lang\":\"en\",\"authors\":{\"184252\":{\"author_id\":\"184252\",\"name\":\"Colin Hunter\",\"url\":\"\"}},\"images\":{\"1\":{\"item_id\":\"690980598\",\"image_id\":\"1\",\"src\":\"https:\\/\\/uwaterloo.ca\\/stories\\/sites\\/ca.stories\\/files\\/resize\\/msc-robert-mann-0001-20140805-160x160.jpg\",\"width\":\"160\",\"height\":\"160\",\"credit\":\"\",\"caption\":\"Graphic by Gabriela Secara, Perimeter Institute for Theoretical Physics.\"},\"2\":{\"item_id\":\"690980598\",\"image_id\":\"2\",\"src\":\"https:\\/\\/uwaterloo.ca\\/stories\\/sites\\/ca.stories\\/files\\/resize\\/msc-razieh-pourhasan-0001-20140805-158x185.jpg\",\"width\":\"158\",\"height\":\"185\",\"credit\":\"top\",\"caption\":\"Niayesh Afshori\"},\"3\":{\"item_id\":\"690980598\",\"image_id\":\"3\",\"src\":\"https:\\/\\/uwaterloo.ca\\/stories\\/sites\\/ca.stories\\/files\\/big-bang-video-story.jpg\",\"width\":\"500\",\"height\":\"262\",\"credit\":\"\",\"caption\":\"\"}},\"videos\":[],\"resolved_normal_url\":\"http:\\/\\/uwaterloo.ca\\/stories\\/waterloo-astrophysicists-propose-new-twist-big-bang?utm_source=social_organic&utm_medium=Facebook&utm_campaign=sciam_infographic\",\"given_url\":\"https:\\/\\/uwaterloo.ca\\/stories\\/waterloo-astrophysicists-propose-new-twist-big-bang?utm_source=social_organic&utm_medium=Facebook&utm_campaign=sciam_infographic\"},\"status\":1}"
       ]
      },
      {
       "output_type": "stream",
       "stream": "stdout",
       "text": [
        "\n"
       ]
      }
     ],
     "prompt_number": 7
    },
    {
     "cell_type": "code",
     "collapsed": false,
     "input": [],
     "language": "python",
     "metadata": {},
     "outputs": []
    }
   ],
   "metadata": {}
  }
 ]
}